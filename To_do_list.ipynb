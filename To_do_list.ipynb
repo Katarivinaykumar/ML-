{
  "nbformat": 4,
  "nbformat_minor": 0,
  "metadata": {
    "colab": {
      "provenance": [],
      "authorship_tag": "ABX9TyMcyRjidwyS8GiYe7X3xn7R",
      "include_colab_link": true
    },
    "kernelspec": {
      "name": "python3",
      "display_name": "Python 3"
    },
    "language_info": {
      "name": "python"
    }
  },
  "cells": [
    {
      "cell_type": "markdown",
      "metadata": {
        "id": "view-in-github",
        "colab_type": "text"
      },
      "source": [
        "<a href=\"https://colab.research.google.com/github/Katarivinaykumar/ML-/blob/main/To_do_list.ipynb\" target=\"_parent\"><img src=\"https://colab.research.google.com/assets/colab-badge.svg\" alt=\"Open In Colab\"/></a>"
      ]
    },
    {
      "cell_type": "code",
      "execution_count": null,
      "metadata": {
        "colab": {
          "base_uri": "https://localhost:8080/"
        },
        "id": "7pWiWWnPY9zn",
        "outputId": "0f0d909f-45fc-4c30-c4da-0405d000ff43"
      },
      "outputs": [
        {
          "output_type": "stream",
          "name": "stdout",
          "text": [
            "==⟩ Select one of the following options:-\n",
            "\n",
            "        1. Add a task\n",
            "        2. Delete a task\n",
            "        3. View all task\n",
            "        4. Exit\n",
            "        \n"
          ]
        }
      ],
      "source": [
        "def Tasks(allTask):\n",
        "    for i in range(len(allTask)):\n",
        "        print(f\"{i+1}. {allTask[i]}\")\n",
        "\n",
        "\n",
        "allTask = ['Python', 'Java', 'HTML','ML','AI']\n",
        "while True:\n",
        "    print(\"==⟩ Select one of the following options:-\")\n",
        "    print('''\n",
        "        1. Add a task\n",
        "        2. Delete a task\n",
        "        3. View all task\n",
        "        4. Exit\n",
        "        ''')\n",
        "\n",
        "\n",
        "    user = int(input(\": \"))\n",
        "\n",
        "    if user ==  1:\n",
        "        addTask = input(\"Enter a task: \")\n",
        "        allTask.append(addTask)\n",
        "        Tasks(allTask)\n",
        "    elif user == 2:\n",
        "        Tasks(allTask)\n",
        "        deleteTask = int(input(\"Enter serial no.: \")) - 1\n",
        "        del allTask[deleteTask]\n",
        "        Tasks(allTask)\n",
        "    elif user == 3:\n",
        "        Tasks(allTask)\n",
        "    else:\n",
        "        break"
      ]
    }
  ]
}